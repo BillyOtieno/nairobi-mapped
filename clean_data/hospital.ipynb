{
 "cells": [
  {
   "cell_type": "code",
   "execution_count": 1,
   "metadata": {},
   "outputs": [
    {
     "data": {
      "text/html": [
       "<div>\n",
       "<style scoped>\n",
       "    .dataframe tbody tr th:only-of-type {\n",
       "        vertical-align: middle;\n",
       "    }\n",
       "\n",
       "    .dataframe tbody tr th {\n",
       "        vertical-align: top;\n",
       "    }\n",
       "\n",
       "    .dataframe thead th {\n",
       "        text-align: right;\n",
       "    }\n",
       "</style>\n",
       "<table border=\"1\" class=\"dataframe\">\n",
       "  <thead>\n",
       "    <tr style=\"text-align: right;\">\n",
       "      <th></th>\n",
       "      <th>constituency</th>\n",
       "      <th>ward</th>\n",
       "      <th>clat</th>\n",
       "      <th>clon</th>\n",
       "      <th>place_id</th>\n",
       "      <th>place_name</th>\n",
       "      <th>place_lat</th>\n",
       "      <th>place_long</th>\n",
       "      <th>place_type</th>\n",
       "    </tr>\n",
       "  </thead>\n",
       "  <tbody>\n",
       "    <tr>\n",
       "      <td>0</td>\n",
       "      <td>Westlands</td>\n",
       "      <td>Kitisuru</td>\n",
       "      <td>-1.239554</td>\n",
       "      <td>36.783965</td>\n",
       "      <td>6930556213b736fc182fec3fd89eaf9fcca7dd2a</td>\n",
       "      <td>Beka Medical Clinic</td>\n",
       "      <td>-1.218601</td>\n",
       "      <td>36.764759</td>\n",
       "      <td>hospital</td>\n",
       "    </tr>\n",
       "    <tr>\n",
       "      <td>1</td>\n",
       "      <td>Westlands</td>\n",
       "      <td>Kitisuru</td>\n",
       "      <td>-1.239554</td>\n",
       "      <td>36.783965</td>\n",
       "      <td>222dbf774a81e2f3ee707222831d1239f986e31c</td>\n",
       "      <td>Migration Health Assessment Center (MHAC)</td>\n",
       "      <td>-1.231885</td>\n",
       "      <td>36.804366</td>\n",
       "      <td>hospital</td>\n",
       "    </tr>\n",
       "    <tr>\n",
       "      <td>2</td>\n",
       "      <td>Westlands</td>\n",
       "      <td>Kitisuru</td>\n",
       "      <td>-1.239554</td>\n",
       "      <td>36.783965</td>\n",
       "      <td>3eeea817b45823ed89d0ddd23cde0d724e2a7a9f</td>\n",
       "      <td>Metropolis K K Shah Laboratories</td>\n",
       "      <td>-1.258115</td>\n",
       "      <td>36.806216</td>\n",
       "      <td>hospital</td>\n",
       "    </tr>\n",
       "    <tr>\n",
       "      <td>3</td>\n",
       "      <td>Westlands</td>\n",
       "      <td>Kitisuru</td>\n",
       "      <td>-1.239554</td>\n",
       "      <td>36.783965</td>\n",
       "      <td>f0def31776bb81f126ca2a0a49a87190c28dd877</td>\n",
       "      <td>Aga Khan University Hospital Medical Centre</td>\n",
       "      <td>-1.236013</td>\n",
       "      <td>36.807224</td>\n",
       "      <td>hospital</td>\n",
       "    </tr>\n",
       "    <tr>\n",
       "      <td>4</td>\n",
       "      <td>Westlands</td>\n",
       "      <td>Kitisuru</td>\n",
       "      <td>-1.239554</td>\n",
       "      <td>36.783965</td>\n",
       "      <td>403ab1a1bed1d62c09731cbc4b59990ab062e201</td>\n",
       "      <td>Chiropractic &amp; Physiotherapy Health Centre - W...</td>\n",
       "      <td>-1.261398</td>\n",
       "      <td>36.795991</td>\n",
       "      <td>hospital</td>\n",
       "    </tr>\n",
       "  </tbody>\n",
       "</table>\n",
       "</div>"
      ],
      "text/plain": [
       "  constituency      ward      clat       clon  \\\n",
       "0    Westlands  Kitisuru -1.239554  36.783965   \n",
       "1    Westlands  Kitisuru -1.239554  36.783965   \n",
       "2    Westlands  Kitisuru -1.239554  36.783965   \n",
       "3    Westlands  Kitisuru -1.239554  36.783965   \n",
       "4    Westlands  Kitisuru -1.239554  36.783965   \n",
       "\n",
       "                                   place_id  \\\n",
       "0  6930556213b736fc182fec3fd89eaf9fcca7dd2a   \n",
       "1  222dbf774a81e2f3ee707222831d1239f986e31c   \n",
       "2  3eeea817b45823ed89d0ddd23cde0d724e2a7a9f   \n",
       "3  f0def31776bb81f126ca2a0a49a87190c28dd877   \n",
       "4  403ab1a1bed1d62c09731cbc4b59990ab062e201   \n",
       "\n",
       "                                          place_name  place_lat  place_long  \\\n",
       "0                                Beka Medical Clinic  -1.218601   36.764759   \n",
       "1          Migration Health Assessment Center (MHAC)  -1.231885   36.804366   \n",
       "2                   Metropolis K K Shah Laboratories  -1.258115   36.806216   \n",
       "3        Aga Khan University Hospital Medical Centre  -1.236013   36.807224   \n",
       "4  Chiropractic & Physiotherapy Health Centre - W...  -1.261398   36.795991   \n",
       "\n",
       "  place_type  \n",
       "0   hospital  \n",
       "1   hospital  \n",
       "2   hospital  \n",
       "3   hospital  \n",
       "4   hospital  "
      ]
     },
     "execution_count": 1,
     "metadata": {},
     "output_type": "execute_result"
    }
   ],
   "source": [
    "import matplotlib.pyplot as plt\n",
    "import numpy as np\n",
    "import pandas as pd\n",
    "import seaborn as sns\n",
    "%matplotlib inline\n",
    "\n",
    "hospital = pd.read_csv('combined_nairobi_hospitals.csv')\n",
    "\n",
    "hospital.head()"
   ]
  },
  {
   "cell_type": "code",
   "execution_count": 2,
   "metadata": {},
   "outputs": [
    {
     "name": "stdout",
     "output_type": "stream",
     "text": [
      "Requirement already satisfied: haversine in c:\\users\\user\\anaconda3\\lib\\site-packages (2.2.0)\n"
     ]
    }
   ],
   "source": [
    "!pip install haversine"
   ]
  },
  {
   "cell_type": "code",
   "execution_count": 3,
   "metadata": {},
   "outputs": [],
   "source": [
    "from haversine import haversine, Unit\n",
    "\n",
    "from sklearn.neighbors import DistanceMetric\n",
    "from math import radians\n",
    "import pandas as pd\n",
    "import numpy as np\n",
    "\n",
    "from sklearn.neighbors import DistanceMetric\n",
    "from math import radians"
   ]
  },
  {
   "cell_type": "markdown",
   "metadata": {},
   "source": [
    "## Numpy Vectorize approach to calculate haversine distance between two points"
   ]
  },
  {
   "cell_type": "markdown",
   "metadata": {},
   "source": [
    "Let’s create a haversine function using numpy\n",
    "\n"
   ]
  },
  {
   "cell_type": "code",
   "execution_count": 4,
   "metadata": {},
   "outputs": [],
   "source": [
    "import numpy as np\n",
    " \n",
    "def haversine_vectorize(lon1, lat1, lon2, lat2):\n",
    " \n",
    "    lon1, lat1, lon2, lat2 = map(np.radians, [lon1, lat1, lon2, lat2])\n",
    " \n",
    "    newlon = lon2 - lon1\n",
    "    newlat = lat2 - lat1\n",
    " \n",
    "    haver_formula = np.sin(newlat/2.0)**2 + np.cos(lat1) * np.cos(lat2) * np.sin(newlon/2.0)**2\n",
    " \n",
    "    dist = 2 * np.arcsin(np.sqrt(haver_formula ))\n",
    "    km = 6367 * dist #6367 for distance in KM for miles use 3958\n",
    "    return km"
   ]
  },
  {
   "cell_type": "markdown",
   "metadata": {},
   "source": [
    "Calculate distance between origin and place\n",
    "Let’s calculate the haversine distance between origin and destination city using numpy vectorize haversine function"
   ]
  },
  {
   "cell_type": "code",
   "execution_count": 5,
   "metadata": {},
   "outputs": [
    {
     "data": {
      "text/plain": [
       "0       3.158239\n",
       "1       2.421389\n",
       "2       3.219494\n",
       "3       2.613837\n",
       "4       2.770804\n",
       "          ...   \n",
       "9560    0.458948\n",
       "9561    0.510095\n",
       "9562    0.514142\n",
       "9563    0.529358\n",
       "9564    0.576767\n",
       "Length: 9565, dtype: float64"
      ]
     },
     "execution_count": 5,
     "metadata": {},
     "output_type": "execute_result"
    }
   ],
   "source": [
    "haversine_vectorize(hospital['clon'],hospital['clat'],hospital['place_long'],\n",
    "                   hospital['place_lat'])"
   ]
  },
  {
   "cell_type": "code",
   "execution_count": 6,
   "metadata": {},
   "outputs": [],
   "source": [
    "hospital['distance_km']=haversine_vectorize(hospital['clon'],hospital['clat'],hospital['place_long'],hospital['place_lat'])"
   ]
  },
  {
   "cell_type": "code",
   "execution_count": 7,
   "metadata": {},
   "outputs": [
    {
     "data": {
      "text/html": [
       "<div>\n",
       "<style scoped>\n",
       "    .dataframe tbody tr th:only-of-type {\n",
       "        vertical-align: middle;\n",
       "    }\n",
       "\n",
       "    .dataframe tbody tr th {\n",
       "        vertical-align: top;\n",
       "    }\n",
       "\n",
       "    .dataframe thead th {\n",
       "        text-align: right;\n",
       "    }\n",
       "</style>\n",
       "<table border=\"1\" class=\"dataframe\">\n",
       "  <thead>\n",
       "    <tr style=\"text-align: right;\">\n",
       "      <th></th>\n",
       "      <th>constituency</th>\n",
       "      <th>ward</th>\n",
       "      <th>clat</th>\n",
       "      <th>clon</th>\n",
       "      <th>place_id</th>\n",
       "      <th>place_name</th>\n",
       "      <th>place_lat</th>\n",
       "      <th>place_long</th>\n",
       "      <th>place_type</th>\n",
       "      <th>distance_km</th>\n",
       "    </tr>\n",
       "  </thead>\n",
       "  <tbody>\n",
       "    <tr>\n",
       "      <td>0</td>\n",
       "      <td>Westlands</td>\n",
       "      <td>Kitisuru</td>\n",
       "      <td>-1.239554</td>\n",
       "      <td>36.783965</td>\n",
       "      <td>6930556213b736fc182fec3fd89eaf9fcca7dd2a</td>\n",
       "      <td>Beka Medical Clinic</td>\n",
       "      <td>-1.218601</td>\n",
       "      <td>36.764759</td>\n",
       "      <td>hospital</td>\n",
       "      <td>3.158239</td>\n",
       "    </tr>\n",
       "    <tr>\n",
       "      <td>1</td>\n",
       "      <td>Westlands</td>\n",
       "      <td>Kitisuru</td>\n",
       "      <td>-1.239554</td>\n",
       "      <td>36.783965</td>\n",
       "      <td>222dbf774a81e2f3ee707222831d1239f986e31c</td>\n",
       "      <td>Migration Health Assessment Center (MHAC)</td>\n",
       "      <td>-1.231885</td>\n",
       "      <td>36.804366</td>\n",
       "      <td>hospital</td>\n",
       "      <td>2.421389</td>\n",
       "    </tr>\n",
       "    <tr>\n",
       "      <td>2</td>\n",
       "      <td>Westlands</td>\n",
       "      <td>Kitisuru</td>\n",
       "      <td>-1.239554</td>\n",
       "      <td>36.783965</td>\n",
       "      <td>3eeea817b45823ed89d0ddd23cde0d724e2a7a9f</td>\n",
       "      <td>Metropolis K K Shah Laboratories</td>\n",
       "      <td>-1.258115</td>\n",
       "      <td>36.806216</td>\n",
       "      <td>hospital</td>\n",
       "      <td>3.219494</td>\n",
       "    </tr>\n",
       "    <tr>\n",
       "      <td>3</td>\n",
       "      <td>Westlands</td>\n",
       "      <td>Kitisuru</td>\n",
       "      <td>-1.239554</td>\n",
       "      <td>36.783965</td>\n",
       "      <td>f0def31776bb81f126ca2a0a49a87190c28dd877</td>\n",
       "      <td>Aga Khan University Hospital Medical Centre</td>\n",
       "      <td>-1.236013</td>\n",
       "      <td>36.807224</td>\n",
       "      <td>hospital</td>\n",
       "      <td>2.613837</td>\n",
       "    </tr>\n",
       "    <tr>\n",
       "      <td>4</td>\n",
       "      <td>Westlands</td>\n",
       "      <td>Kitisuru</td>\n",
       "      <td>-1.239554</td>\n",
       "      <td>36.783965</td>\n",
       "      <td>403ab1a1bed1d62c09731cbc4b59990ab062e201</td>\n",
       "      <td>Chiropractic &amp; Physiotherapy Health Centre - W...</td>\n",
       "      <td>-1.261398</td>\n",
       "      <td>36.795991</td>\n",
       "      <td>hospital</td>\n",
       "      <td>2.770804</td>\n",
       "    </tr>\n",
       "  </tbody>\n",
       "</table>\n",
       "</div>"
      ],
      "text/plain": [
       "  constituency      ward      clat       clon  \\\n",
       "0    Westlands  Kitisuru -1.239554  36.783965   \n",
       "1    Westlands  Kitisuru -1.239554  36.783965   \n",
       "2    Westlands  Kitisuru -1.239554  36.783965   \n",
       "3    Westlands  Kitisuru -1.239554  36.783965   \n",
       "4    Westlands  Kitisuru -1.239554  36.783965   \n",
       "\n",
       "                                   place_id  \\\n",
       "0  6930556213b736fc182fec3fd89eaf9fcca7dd2a   \n",
       "1  222dbf774a81e2f3ee707222831d1239f986e31c   \n",
       "2  3eeea817b45823ed89d0ddd23cde0d724e2a7a9f   \n",
       "3  f0def31776bb81f126ca2a0a49a87190c28dd877   \n",
       "4  403ab1a1bed1d62c09731cbc4b59990ab062e201   \n",
       "\n",
       "                                          place_name  place_lat  place_long  \\\n",
       "0                                Beka Medical Clinic  -1.218601   36.764759   \n",
       "1          Migration Health Assessment Center (MHAC)  -1.231885   36.804366   \n",
       "2                   Metropolis K K Shah Laboratories  -1.258115   36.806216   \n",
       "3        Aga Khan University Hospital Medical Centre  -1.236013   36.807224   \n",
       "4  Chiropractic & Physiotherapy Health Centre - W...  -1.261398   36.795991   \n",
       "\n",
       "  place_type  distance_km  \n",
       "0   hospital     3.158239  \n",
       "1   hospital     2.421389  \n",
       "2   hospital     3.219494  \n",
       "3   hospital     2.613837  \n",
       "4   hospital     2.770804  "
      ]
     },
     "execution_count": 7,
     "metadata": {},
     "output_type": "execute_result"
    }
   ],
   "source": [
    "hospital.head()"
   ]
  },
  {
   "cell_type": "code",
   "execution_count": 8,
   "metadata": {},
   "outputs": [],
   "source": [
    "#from geopy.distance import geodesic\n"
   ]
  },
  {
   "cell_type": "code",
   "execution_count": 9,
   "metadata": {},
   "outputs": [],
   "source": [
    "#origin = [hospital['clat'],hospital['clon']]\n",
    "#dist = [hospital['place_lat'],hospital['place_long']]"
   ]
  },
  {
   "cell_type": "code",
   "execution_count": 10,
   "metadata": {},
   "outputs": [],
   "source": [
    "#hospital['distance_m']=geodesic(origin, dist).meters"
   ]
  },
  {
   "cell_type": "code",
   "execution_count": 11,
   "metadata": {},
   "outputs": [],
   "source": [
    "#origin = (hostpital['clat'],hostpital['clon'])  # (latitude, longitude) don't confuse\n",
    "#dist = (hostpital['place_lat'],hostpital['place_long'])\n",
    "#hostpital['clon'],hostpital['clat'],hostpital['place_long'],hostpital['place_lat']\n",
    "#hostpital['distance_m']=geodesic(origin, dist).meters"
   ]
  },
  {
   "cell_type": "code",
   "execution_count": 12,
   "metadata": {},
   "outputs": [],
   "source": [
    "#print(geodesic(origin, dist).kilometers)  # 23.576805481751613\n"
   ]
  },
  {
   "cell_type": "code",
   "execution_count": 13,
   "metadata": {},
   "outputs": [],
   "source": [
    "#origin = (30.172705, 31.526725)  # (latitude, longitude) don't confuse\n",
    "#dist = (30.288281, 31.732326)\n",
    "\n",
    "#print(geodesic(origin, dist).meters)  # 23576.805481751613\n",
    "#print(geodesic(origin, dist).kilometers)  # 23.576805481751613\n",
    "#print(geodesic(origin, dist).miles)  "
   ]
  },
  {
   "cell_type": "code",
   "execution_count": 14,
   "metadata": {},
   "outputs": [],
   "source": [
    "hospital_df =hospital.sort_values('distance_km',ascending=False).drop_duplicates('place_id',keep='last')\n"
   ]
  },
  {
   "cell_type": "code",
   "execution_count": 15,
   "metadata": {},
   "outputs": [],
   "source": [
    "hospital_df.to_csv(r'hospital.csv', index = False)\n"
   ]
  },
  {
   "cell_type": "code",
   "execution_count": null,
   "metadata": {},
   "outputs": [],
   "source": []
  },
  {
   "cell_type": "code",
   "execution_count": null,
   "metadata": {},
   "outputs": [],
   "source": []
  }
 ],
 "metadata": {
  "kernelspec": {
   "display_name": "Python 3",
   "language": "python",
   "name": "python3"
  },
  "language_info": {
   "codemirror_mode": {
    "name": "ipython",
    "version": 3
   },
   "file_extension": ".py",
   "mimetype": "text/x-python",
   "name": "python",
   "nbconvert_exporter": "python",
   "pygments_lexer": "ipython3",
   "version": "3.7.4"
  }
 },
 "nbformat": 4,
 "nbformat_minor": 2
}
